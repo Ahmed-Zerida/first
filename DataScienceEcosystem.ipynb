{
 "cells": [
  {
   "cell_type": "markdown",
   "id": "a8af90f5",
   "metadata": {},
   "source": [
    "# Data Science Tools and Ecosystem"
   ]
  },
  {
   "cell_type": "markdown",
   "id": "baa0a8d1",
   "metadata": {},
   "source": [
    "# In this notebook, Data Science Tools and Ecosystem are summarized."
   ]
  },
  {
   "cell_type": "markdown",
   "id": "fc94e46f",
   "metadata": {},
   "source": [
    "# Objectives:\n",
    "## [creating markdown,inserting a cell ,run code ]"
   ]
  },
  {
   "cell_type": "markdown",
   "id": "a7a68ef6",
   "metadata": {},
   "source": [
    "# Some of the popular languages that Data Scientists use are:\n",
    "\n",
    "1-python\n",
    "2-R\n",
    "3-scala"
   ]
  },
  {
   "cell_type": "markdown",
   "id": "9fc9e32f",
   "metadata": {},
   "source": [
    "# Some of the commonly used libraries used by Data Scientists include:\n",
    "\n",
    "## 1-numpy\n",
    "## 2-pandas\n",
    "## 3-sikitlearn"
   ]
  },
  {
   "cell_type": "markdown",
   "id": "271e5489",
   "metadata": {},
   "source": [
    "# Data Science Tools\n",
    "## RStudio\n",
    "## Apache Spark\n",
    "## TensorFlow"
   ]
  },
  {
   "cell_type": "markdown",
   "id": "00b8c940",
   "metadata": {},
   "source": [
    "# Below are a few examples of evaluating arithmetic expressions in Python\n",
    "\n"
   ]
  },
  {
   "cell_type": "code",
   "execution_count": 1,
   "id": "48aaba4b",
   "metadata": {},
   "outputs": [
    {
     "data": {
      "text/plain": [
       "17"
      ]
     },
     "execution_count": 1,
     "metadata": {},
     "output_type": "execute_result"
    }
   ],
   "source": [
    "# This a simple arithmetic expression to mutiply then add integers\n",
    "(3*4)+5\n"
   ]
  },
  {
   "cell_type": "code",
   "execution_count": 2,
   "id": "7ba771d3",
   "metadata": {},
   "outputs": [
    {
     "data": {
      "text/plain": [
       "3.3333333333333335"
      ]
     },
     "execution_count": 2,
     "metadata": {},
     "output_type": "execute_result"
    }
   ],
   "source": [
    "#This will convert 200 minutes to hours by diving by 60\n",
    "\n",
    "200/60"
   ]
  },
  {
   "cell_type": "markdown",
   "id": "a454bdbf",
   "metadata": {},
   "source": [
    "## Author \n",
    "ahmed zerida"
   ]
  },
  {
   "cell_type": "code",
   "execution_count": null,
   "id": "dc1d976d",
   "metadata": {},
   "outputs": [],
   "source": []
  }
 ],
 "metadata": {
  "kernelspec": {
   "display_name": "Python 3",
   "language": "python",
   "name": "python3"
  },
  "language_info": {
   "codemirror_mode": {
    "name": "ipython",
    "version": 3
   },
   "file_extension": ".py",
   "mimetype": "text/x-python",
   "name": "python",
   "nbconvert_exporter": "python",
   "pygments_lexer": "ipython3",
   "version": "3.8.8"
  }
 },
 "nbformat": 4,
 "nbformat_minor": 5
}
